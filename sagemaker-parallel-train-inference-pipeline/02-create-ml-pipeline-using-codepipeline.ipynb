{
 "cells": [
  {
   "cell_type": "markdown",
   "id": "28ca03e1",
   "metadata": {},
   "source": [
    "# AWS CodePipeline で ML パイプラインを更新\n",
    "\n",
    "## 背景\n",
    "\n",
    "01-sagemaker-training-inference-pipeline で作成した Step Functions Workflow を AWS CodePipeline, CodeBuild, CodeCommit を使って更新するパイプラインを作成します。CodeCommit のファイルが更新されると、それをトリガーにして Step Functions Workflow の作成やコンテナイメージの作成が実行されます。\n",
    "\n",
    "## セットアップ\n",
    "前に使用したノートブックからパラメタを引き継ぎます。"
   ]
  },
  {
   "cell_type": "code",
   "execution_count": null,
   "id": "33c64113",
   "metadata": {},
   "outputs": [],
   "source": [
    "%store -r"
   ]
  },
  {
   "cell_type": "code",
   "execution_count": null,
   "id": "9020b7fc",
   "metadata": {},
   "outputs": [],
   "source": [
    "import boto3\n",
    "import json\n",
    "import os\n",
    "import pandas as pd\n",
    "import sagemaker\n",
    "from sagemaker.processing import Processor, ProcessingInput, ProcessingOutput\n",
    "from time import sleep\n",
    "import utility\n",
    "\n",
    "%store -r\n",
    "\n",
    "sagemaker_session = sagemaker.Session()\n",
    "region = sagemaker_session.boto_region_name\n",
    "codecommit_client = boto3.client('codecommit', region_name=region)\n",
    "codebuild_client = boto3.client('codebuild', region_name=region)\n",
    "codepipeline_client = boto3.client('codepipeline', region_name=region)\n",
    "\n",
    "role = sagemaker.get_execution_role()\n",
    "account_id = boto3.client('sts').get_caller_identity().get('Account')\n",
    "\n",
    "policy_arn_list = []\n",
    "role_name_list = []\n",
    "\n",
    "code_dir = 'repo'\n",
    "\n",
    "codepipeline_name  = project_name + '-ml-codepipeline-' + user_name\n",
    "codebuild_project_name  = project_name + '-ml-codebuild-' + user_name\n",
    "code_repository_name  = project_name + '-ml-repo-' + user_name"
   ]
  },
  {
   "cell_type": "markdown",
   "id": "793f9083",
   "metadata": {},
   "source": [
    "## pipeline-config.yml の作成\n",
    "\n",
    "Step Functions Workflow 作成の際に必要なパラメタを yaml ファイルに保存します。このファイルは CodeCommit で管理します。"
   ]
  },
  {
   "cell_type": "code",
   "execution_count": null,
   "id": "03427aa8",
   "metadata": {},
   "outputs": [],
   "source": [
    "filepath = os.path.join(code_dir, 'pipeline-config.yml')\n",
    "prep_repository_name =  prep_repository_uri.split('/')[1].split(':')[0]\n",
    "train_repository_name =  train_repository_uri.split('/')[1].split(':')[0]\n",
    "\n",
    "config_yml={f\"\"\"\n",
    "config:\n",
    "  user-name: {user_name}\n",
    "  region: {region}\n",
    "  bucket-name: {bucket_name}\n",
    "  s3-prefix: {prefix}\n",
    "  num-of-segment: {num_of_segment}\n",
    "  codepipeline-name: {codepipeline_name}\n",
    "  prep-image-name: {prep_repository_name}\n",
    "  train-image-name: {train_repository_name}\n",
    "  sfn-workflow-arn: {step_functions_workflow_arn}\n",
    "  sfn-role-arn: {workflow_execution_role}\n",
    "  sagemaker-role: {role}\n",
    "  notification-lambda-name: {lambda_notification_function_name}\n",
    "  sns-topic-arn: {sns_notification_topic_arn}\n",
    "\"\"\"\n",
    "}\n",
    "\n",
    "with open(filepath, 'w') as f:\n",
    "    f.write('\\n'.join(list(config_yml)))"
   ]
  },
  {
   "cell_type": "markdown",
   "id": "fbee0459",
   "metadata": {},
   "source": [
    "## AWS CodeCommit リポジトリの作成"
   ]
  },
  {
   "cell_type": "code",
   "execution_count": null,
   "id": "f82b0a41",
   "metadata": {},
   "outputs": [],
   "source": [
    "try:\n",
    "    response = codecommit_client.create_repository(\n",
    "        repositoryName=code_repository_name,\n",
    "        repositoryDescription='sample repository',\n",
    "        tags={\n",
    "            'owner': user_name\n",
    "        }\n",
    "    )\n",
    "except Exception as e:\n",
    "    print(e)"
   ]
  },
  {
   "cell_type": "markdown",
   "id": "44a375f2",
   "metadata": {},
   "source": [
    "作成したリポジトリにSageMaker Job 関連のファイルを push します。"
   ]
  },
  {
   "cell_type": "code",
   "execution_count": null,
   "id": "ef289a41",
   "metadata": {},
   "outputs": [],
   "source": [
    "%%sh -s $code_repository_name $region $user_name\n",
    "echo $1\n",
    "rm -rf $1\n",
    "git clone https://git-codecommit.$2.amazonaws.com/v1/repos/$1\n",
    "cd $1\n",
    "git config --global user.name $3\n",
    "git config --global user.email you@example.com\n",
    "git checkout -b main\n",
    "cp -r ../code ./\n",
    "cp -r ../docker ./\n",
    "cp -r ../repo/* ./\n",
    "git add .\n",
    "git commit -m \"first commit\"\n",
    "git push --set-upstream origin main"
   ]
  },
  {
   "cell_type": "markdown",
   "id": "57c3e581",
   "metadata": {},
   "source": [
    "以下のセルを実行して表示されたリンクをクリックし、ファイルが push されたか確認してみましょう。"
   ]
  },
  {
   "cell_type": "code",
   "execution_count": null,
   "id": "1ef8ea95",
   "metadata": {},
   "outputs": [],
   "source": [
    "from IPython.display import display, Markdown\n",
    "display(Markdown(f\"<a href=\\\"https://{region}.console.aws.amazon.com/codesuite/codecommit/repositories/{code_repository_name}/setup?region={region}\\\" target=\\\"_blank\\\">CodeCommit リポジトリ</a>\"))\n"
   ]
  },
  {
   "cell_type": "markdown",
   "id": "38cace45",
   "metadata": {},
   "source": [
    "## AWS CodeBuild プロジェクトの作成\n",
    "\n",
    "以下のセルを実行して、CodeBuild が使用する IAM Policy と Role を作成します。"
   ]
  },
  {
   "cell_type": "code",
   "execution_count": null,
   "id": "80b9ec92",
   "metadata": {},
   "outputs": [],
   "source": [
    "assume_role_policy = {\n",
    "          \"Version\": \"2012-10-17\",\n",
    "          \"Statement\": [{\"Sid\": \"\",\"Effect\": \"Allow\",\"Principal\": {\"Service\":\"codebuild.amazonaws.com\"},\"Action\": \"sts:AssumeRole\"}]\n",
    "        }\n",
    "\n",
    "codebuild_policy_name = codebuild_project_name + '-policy'\n",
    "codebuild_role_name = codebuild_project_name + '-role'\n",
    "codebuild_policy_json_name = 'codebuild-policy.json'\n",
    "\n",
    "codebuild_role_arn = utility.create_policy_role(codebuild_policy_name, codebuild_policy_json_name,\n",
    "                    codebuild_role_name, assume_role_policy,\n",
    "                    role_name_list, policy_arn_list)"
   ]
  },
  {
   "cell_type": "markdown",
   "id": "aae9fe6d",
   "metadata": {},
   "source": [
    "Step Functions Workflow を更新するための CodeBuild プロジェクトを作成します。"
   ]
  },
  {
   "cell_type": "code",
   "execution_count": null,
   "id": "ec31c004",
   "metadata": {},
   "outputs": [],
   "source": [
    "response = codebuild_client.create_project(\n",
    "    name=codebuild_project_name,\n",
    "    description='sample project',\n",
    "    source={\n",
    "        'type': 'CODEPIPELINE',\n",
    "        'insecureSsl': False,\n",
    "    },\n",
    "    artifacts={\n",
    "        'type': 'CODEPIPELINE',\n",
    "        'encryptionDisabled': False,\n",
    "    },\n",
    "    cache={\n",
    "        'type': 'LOCAL',\n",
    "        'modes': [\n",
    "            'LOCAL_DOCKER_LAYER_CACHE',\n",
    "        ]\n",
    "    },\n",
    "    environment={\n",
    "        'type': 'LINUX_CONTAINER',\n",
    "        'image': 'aws/codebuild/standard:5.0',\n",
    "        'computeType': 'BUILD_GENERAL1_MEDIUM',\n",
    "        'privilegedMode': True,\n",
    "        'imagePullCredentialsType': 'CODEBUILD'\n",
    "    },\n",
    "    serviceRole=codebuild_role_arn,\n",
    "    timeoutInMinutes=120,\n",
    "    queuedTimeoutInMinutes=120,\n",
    "#     encryptionKey='string',\n",
    "    tags=[\n",
    "        {\n",
    "            'key': 'owner',\n",
    "            'value': user_name\n",
    "        },\n",
    "    ],\n",
    "    badgeEnabled=False,\n",
    "    logsConfig={\n",
    "        'cloudWatchLogs': {\n",
    "            'status': 'ENABLED',\n",
    "        },\n",
    "        's3Logs': {\n",
    "            'status': 'ENABLED',\n",
    "            'location': os.path.join(bucket_name, 'build-log'),\n",
    "            'encryptionDisabled': False,\n",
    "            'bucketOwnerAccess': 'READ_ONLY'\n",
    "        }\n",
    "    },\n",
    ")"
   ]
  },
  {
   "cell_type": "markdown",
   "id": "a2d7c911",
   "metadata": {},
   "source": [
    "## CodePipeline のパイプライン作成\n",
    "\n",
    "まずは CodePipeline のパイプラインにアタッチする IAM Role を作成します。"
   ]
  },
  {
   "cell_type": "code",
   "execution_count": null,
   "id": "e0865054",
   "metadata": {},
   "outputs": [],
   "source": [
    "codepipeline_policy_name = codepipeline_name + '-policy'\n",
    "codepipeline_role_name = codepipeline_name + '-role'\n",
    "codepipeline_role_json_name = 'codepipeline-policy.json'\n",
    "\n",
    "assume_role_policy = {\n",
    "      \"Version\": \"2012-10-17\",\n",
    "      \"Statement\": [{\"Sid\": \"\",\"Effect\": \"Allow\",\"Principal\": {\"Service\":\"codepipeline.amazonaws.com\"},\"Action\": \"sts:AssumeRole\"}]\n",
    "    }\n",
    "\n",
    "codepipeline_role_arn = utility.create_policy_role(\n",
    "                            codepipeline_policy_name, codepipeline_role_json_name,\n",
    "                            codepipeline_role_name, assume_role_policy,\n",
    "                            role_name_list, policy_arn_list)\n"
   ]
  },
  {
   "cell_type": "code",
   "execution_count": null,
   "id": "9acc6bfe",
   "metadata": {},
   "outputs": [],
   "source": [
    "def get_pipeline_list():\n",
    "    file_list = []\n",
    "    next_token = ''\n",
    "    while True:\n",
    "        if next_token == '':\n",
    "            response = codepipeline_client.list_pipelines()\n",
    "        else:\n",
    "            response = codepipeline_client.list_pipelines(nextToken=next_token)\n",
    "        for content in response['pipelines']:\n",
    "            key = content['name']\n",
    "            file_list.append(key)\n",
    "        if 'nextToken' in response:\n",
    "            next_token = response['nextToken']\n",
    "        else:\n",
    "            break\n",
    "\n",
    "    return file_list"
   ]
  },
  {
   "cell_type": "markdown",
   "id": "d6ffaef5",
   "metadata": {},
   "source": [
    "CodePipeline のパイプラインを作成します。Source Stage と Build Stage を作成します。"
   ]
  },
  {
   "cell_type": "code",
   "execution_count": null,
   "id": "67a880bd",
   "metadata": {},
   "outputs": [],
   "source": [
    "pipeline={\n",
    "    'name': codepipeline_name,\n",
    "    'roleArn': codepipeline_role_arn,\n",
    "    'artifactStore': {\n",
    "        'type': 'S3',\n",
    "        'location': bucket_name,\n",
    "    },\n",
    "    'stages': [\n",
    "        {\n",
    "            'name': 'Source',\n",
    "            'actions': [\n",
    "                {\n",
    "                    'name': 'Code',\n",
    "                    'actionTypeId': {\n",
    "                        'category': 'Source',\n",
    "                        'owner': 'AWS',\n",
    "                        'provider': 'CodeCommit',\n",
    "                        'version': '1'\n",
    "                    },\n",
    "                    'runOrder': 1,\n",
    "                    'configuration': {\n",
    "                        'BranchName': \"main\", \n",
    "                        'PollForSourceChanges': \"true\",\n",
    "                        \"OutputArtifactFormat\": \"CODEBUILD_CLONE_REF\",\n",
    "                        'RepositoryName': code_repository_name\n",
    "                    },\n",
    "                    'outputArtifacts': [\n",
    "                        {\n",
    "                            'name': 'Code'\n",
    "                        },\n",
    "                    ],\n",
    "                },\n",
    "            ]\n",
    "        },\n",
    "        {\n",
    "            'name': 'Build',\n",
    "            'actions': [\n",
    "                {\n",
    "                    'name': 'CreateMLWorkflow',\n",
    "                    'actionTypeId': {\n",
    "                        'category': 'Build',\n",
    "                        'owner': 'AWS',\n",
    "                        'provider': 'CodeBuild',\n",
    "                        'version': '1'\n",
    "                    },\n",
    "                    'runOrder': 2,\n",
    "                    # CodeBuild の configuration 情報はこちら\n",
    "                    # https://docs.aws.amazon.com/codepipeline/latest/userguide/action-reference-CodeBuild.html\n",
    "                    'configuration': {\n",
    "                        \"BatchEnabled\": \"false\",\n",
    "                        \"CombineArtifacts\": \"false\",\n",
    "                        \"ProjectName\": codebuild_project_name,\n",
    "                        \"PrimarySource\": \"Code\",\n",
    "                        \"EnvironmentVariables\": \n",
    "                            \"[{\\\"name\\\":\\\"EXEC_ID\\\",\"\n",
    "                                \"\\\"value\\\":\\\"#{codepipeline.PipelineExecutionId}\\\",\"\n",
    "                                \"\\\"type\\\":\\\"PLAINTEXT\\\"}]\"\n",
    "                    },\n",
    "                    'inputArtifacts': [\n",
    "                        {\n",
    "                            'name': 'Code'\n",
    "                        },\n",
    "                    ],\n",
    "                    'namespace': 'CreateMLWorkflow'\n",
    "                }\n",
    "            ]\n",
    "        }],\n",
    "    'version': 1\n",
    "}\n",
    "\n",
    "if codepipeline_name in get_pipeline_list():\n",
    "    response = codepipeline_client.update_pipeline(\n",
    "        pipeline=pipeline\n",
    "    )\n",
    "else:\n",
    "    response = codepipeline_client.create_pipeline(\n",
    "        pipeline=pipeline,\n",
    "        tags=[\n",
    "            {\n",
    "                'key': 'owner',\n",
    "                'value': user_name\n",
    "            },\n",
    "        ]\n",
    "    )"
   ]
  },
  {
   "cell_type": "markdown",
   "id": "16707b95",
   "metadata": {},
   "source": [
    "CodePipeline のパイプラインが作成されました。パイプラインが自動的に開始しているはずなので、以下のセルを実行して表示されたリンクをクリックして CodePipeline のコンソールで様子を確認しましょう。Source Stage -> Build Stage の順でパイプラインが実行されます。\n",
    "\n",
    "Build Stage の実行には最長で 10分ほどかかります。コンテナイメージ関連のファイルの更新がない場合はコンテナイメージのビルドがスキップされるため 3分ほどで完了します。"
   ]
  },
  {
   "cell_type": "code",
   "execution_count": null,
   "id": "fce0840d",
   "metadata": {},
   "outputs": [],
   "source": [
    "from IPython.display import display, Markdown\n",
    "display(Markdown(f\"<a href=\\\"https://{region}.console.aws.amazon.com/codesuite/codepipeline/pipelines/{codepipeline_name}/view?region={region}\\\" target=\\\"_blank\\\">CodePipeline のコンソール</a>\"))"
   ]
  },
  {
   "cell_type": "markdown",
   "id": "78661e2a",
   "metadata": {},
   "source": [
    "## [Optional] CodeCommit のファイルの更新\n",
    "\n",
    "このノートブックと同じフォルダにある code_repository_name と同じ名前のフォルダの中のソースコードを変更したら、以下のセルを実行して変更を CodeCommit リポジトリに反映します。ファイルの変更がリポジトリに反映されると CodePipeline が開始します。"
   ]
  },
  {
   "cell_type": "code",
   "execution_count": null,
   "id": "683f4352",
   "metadata": {},
   "outputs": [],
   "source": [
    "%%sh -s $code_repository_name\n",
    "cd $1\n",
    "git add .\n",
    "git commit -m \"update\"\n",
    "git push"
   ]
  },
  {
   "cell_type": "markdown",
   "id": "a54e0675",
   "metadata": {},
   "source": [
    "これで、必要なリソースをすべて作成することができました。これらのリソースが不要になった場合は、忘れずに以下のリソースの削除を実施してから、[こちらのリソース削除](01-sagemaker-training-inference-pipeline.ipynb#リソースの削除) を実行してください。"
   ]
  },
  {
   "cell_type": "markdown",
   "id": "0a5fbe4f",
   "metadata": {},
   "source": [
    "## リソースの削除\n",
    "\n",
    "作成したリソースが不要になったら以降のセルを実行して、このノートブックで作成したリソースを削除してください。\n",
    "\n",
    "### CodeCommit, CodeBuild, CodePipeline の削除"
   ]
  },
  {
   "cell_type": "code",
   "execution_count": null,
   "id": "1f4d9977",
   "metadata": {},
   "outputs": [],
   "source": [
    "response = codecommit_client.delete_repository(\n",
    "    repositoryName=code_repository_name\n",
    ")\n",
    "print('Delete:', response['repositoryId'])\n",
    "\n",
    "response = codebuild_client.delete_project(\n",
    "    name=codebuild_project_name\n",
    ")\n",
    "print('Delete:', codebuild_project_name)\n",
    "\n",
    "response = codepipeline_client.delete_pipeline(\n",
    "    name=codepipeline_name\n",
    ")\n",
    "print('Delete:', codepipeline_name)"
   ]
  },
  {
   "cell_type": "markdown",
   "id": "c142bdc9",
   "metadata": {},
   "source": [
    "\n",
    "### IAM Role と Policy の削除"
   ]
  },
  {
   "cell_type": "code",
   "execution_count": null,
   "id": "b5a64184",
   "metadata": {},
   "outputs": [],
   "source": [
    "role_name_list = list(set(role_name_list))\n",
    "policy_arn_list = list(set(policy_arn_list))\n",
    "\n",
    "utility.delete_role_policy(role_name_list, policy_arn_list)"
   ]
  },
  {
   "cell_type": "code",
   "execution_count": null,
   "id": "8226276a",
   "metadata": {},
   "outputs": [],
   "source": []
  }
 ],
 "metadata": {
  "kernelspec": {
   "display_name": "conda_python3",
   "language": "python",
   "name": "conda_python3"
  },
  "language_info": {
   "codemirror_mode": {
    "name": "ipython",
    "version": 3
   },
   "file_extension": ".py",
   "mimetype": "text/x-python",
   "name": "python",
   "nbconvert_exporter": "python",
   "pygments_lexer": "ipython3",
   "version": "3.8.12"
  },
  "toc": {
   "base_numbering": 1,
   "nav_menu": {},
   "number_sections": true,
   "sideBar": true,
   "skip_h1_title": true,
   "title_cell": "Table of Contents",
   "title_sidebar": "Contents",
   "toc_cell": false,
   "toc_position": {
    "height": "calc(100% - 180px)",
    "left": "10px",
    "top": "150px",
    "width": "274.815px"
   },
   "toc_section_display": true,
   "toc_window_display": true
  }
 },
 "nbformat": 4,
 "nbformat_minor": 5
}
