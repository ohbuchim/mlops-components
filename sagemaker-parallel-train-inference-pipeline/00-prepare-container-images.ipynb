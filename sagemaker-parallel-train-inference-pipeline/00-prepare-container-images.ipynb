{
 "cells": [
  {
   "cell_type": "markdown",
   "id": "b224cead",
   "metadata": {},
   "source": [
    "# Amazon SageMaker で使用するコンテナイメージを準備する\n",
    "\n",
    "パイプラインから SageMaker の機能を使ってデータ準備、モデルの学習、バッチ推論を実行する際に使用するコンテナイメージを作成します。このノートブックは、SageMaker ノートブックインスタンスでのみ動作します。SageMaker Studio を使う場合は `docker` コマンドを使えないので代わりに [`sm-docker`](https://aws.amazon.com/jp/blogs/machine-learning/using-the-amazon-sagemaker-studio-image-build-cli-to-build-container-images-from-your-studio-notebooks/) を使ってください。"
   ]
  },
  {
   "cell_type": "code",
   "execution_count": null,
   "id": "acccf634",
   "metadata": {},
   "outputs": [],
   "source": [
    "import boto3\n",
    "import pandas as pd\n",
    "import sagemaker\n",
    "\n",
    "sagemaker_session = sagemaker.Session()\n",
    "region = sagemaker_session.boto_region_name\n",
    "account_id = boto3.client('sts').get_caller_identity().get('Account')\n",
    "\n",
    "project_name = 'sagemaker-ml-pipeline'\n",
    "user_name = 'demo'"
   ]
  },
  {
   "cell_type": "code",
   "execution_count": null,
   "id": "00ae9b96",
   "metadata": {},
   "outputs": [],
   "source": [
    "def build_and_push_image(repo_name, docker_path, extra_accounts=[], tag = ':latest'):\n",
    "    uri_suffix = 'amazonaws.com'\n",
    "    repository_uri = '{}.dkr.ecr.{}.{}/{}'.format(account_id, region, uri_suffix, repo_name + tag)\n",
    "\n",
    "    for a in extra_accounts:\n",
    "        !aws ecr get-login-password --region {region} | docker login --username AWS --password-stdin {a}.dkr.ecr.{region}.amazonaws.com\n",
    "    !docker build -t $repo_name $docker_path\n",
    "    !aws ecr get-login-password --region {region} | docker login --username AWS --password-stdin {account_id}.dkr.ecr.{region}.amazonaws.com\n",
    "    !aws ecr create-repository --repository-name $repo_name\n",
    "    !docker tag {repo_name + tag} $repository_uri\n",
    "    !docker push $repository_uri\n",
    "    return repository_uri"
   ]
  },
  {
   "cell_type": "markdown",
   "id": "2baf20cb",
   "metadata": {},
   "source": [
    "## モデル学習用コンテナイメージの作成"
   ]
  },
  {
   "cell_type": "code",
   "execution_count": null,
   "id": "83574802",
   "metadata": {},
   "outputs": [],
   "source": [
    "image_name = project_name + '-train-' + user_name\n",
    "train_repository_uri = build_and_push_image(image_name, './docker/train')"
   ]
  },
  {
   "cell_type": "markdown",
   "id": "69193726",
   "metadata": {},
   "source": [
    "上記セルの出力の最後に Pushed と書かれていれば、ビルドしたコンテナイメージが Amazon ECR に格納されているはずです。以下のセルを実行して表示されたリンクから、latest というタグが付いたイメージがあることを確認してください。"
   ]
  },
  {
   "cell_type": "code",
   "execution_count": null,
   "id": "5d3cc49a",
   "metadata": {},
   "outputs": [],
   "source": [
    "from IPython.display import display, Markdown\n",
    "text = f'<a href=\\\"https://{region}.console.aws.amazon.com/ecr/repositories/private/{account_id}/{image_name}?region={region}\\\" target=\\\"_blank\\\">ECR コンソール</a>'\n",
    "display(Markdown(text))"
   ]
  },
  {
   "cell_type": "markdown",
   "id": "646ca28f",
   "metadata": {},
   "source": [
    "## データ準備用コンテナイメージの作成"
   ]
  },
  {
   "cell_type": "code",
   "execution_count": null,
   "id": "413de649",
   "metadata": {
    "scrolled": true
   },
   "outputs": [],
   "source": [
    "image_name = project_name + '-prep-' + user_name\n",
    "prep_repository_uri = build_and_push_image(image_name, './docker/prep')\n",
    "\n",
    "text = f'<a href=\\\"https://{region}.console.aws.amazon.com/ecr/repositories/private/{account_id}/{image_name}?region={region}\\\" target=\\\"_blank\\\">ECR コンソール</a>'\n",
    "display(Markdown(text))"
   ]
  },
  {
   "cell_type": "markdown",
   "id": "cbde5ee4",
   "metadata": {},
   "source": [
    "別のノートブックで使用するため、変数を保存します。"
   ]
  },
  {
   "cell_type": "code",
   "execution_count": null,
   "id": "5bd8fc54",
   "metadata": {},
   "outputs": [],
   "source": [
    "%store project_name user_name train_repository_uri prep_repository_uri"
   ]
  },
  {
   "cell_type": "code",
   "execution_count": null,
   "id": "548e2379",
   "metadata": {},
   "outputs": [],
   "source": []
  }
 ],
 "metadata": {
  "kernelspec": {
   "display_name": "conda_python3",
   "language": "python",
   "name": "conda_python3"
  },
  "language_info": {
   "codemirror_mode": {
    "name": "ipython",
    "version": 3
   },
   "file_extension": ".py",
   "mimetype": "text/x-python",
   "name": "python",
   "nbconvert_exporter": "python",
   "pygments_lexer": "ipython3",
   "version": "3.8.12"
  },
  "toc": {
   "base_numbering": 1,
   "nav_menu": {},
   "number_sections": true,
   "sideBar": true,
   "skip_h1_title": false,
   "title_cell": "Table of Contents",
   "title_sidebar": "Contents",
   "toc_cell": false,
   "toc_position": {},
   "toc_section_display": true,
   "toc_window_display": true
  }
 },
 "nbformat": 4,
 "nbformat_minor": 5
}
